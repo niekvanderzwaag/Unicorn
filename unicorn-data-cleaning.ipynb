{
 "cells": [
  {
   "cell_type": "code",
   "execution_count": 1,
   "id": "db0b61e9",
   "metadata": {
    "_cell_guid": "b1076dfc-b9ad-4769-8c92-a6c4dae69d19",
    "_uuid": "8f2839f25d086af736a60e9eeb907d3b93b6e0e5",
    "execution": {
     "iopub.execute_input": "2021-12-12T06:00:36.280806Z",
     "iopub.status.busy": "2021-12-12T06:00:36.279616Z",
     "iopub.status.idle": "2021-12-12T06:00:36.288248Z",
     "shell.execute_reply": "2021-12-12T06:00:36.288762Z",
     "shell.execute_reply.started": "2021-12-12T05:59:57.271892Z"
    },
    "papermill": {
     "duration": 0.038635,
     "end_time": "2021-12-12T06:00:36.289081",
     "exception": false,
     "start_time": "2021-12-12T06:00:36.250446",
     "status": "completed"
    },
    "tags": []
   },
   "outputs": [],
   "source": [
    "import pandas as pd\n",
    "import numpy as np"
   ]
  },
  {
   "cell_type": "code",
   "execution_count": 2,
   "id": "16b066bc",
   "metadata": {
    "execution": {
     "iopub.execute_input": "2021-12-12T06:00:36.340815Z",
     "iopub.status.busy": "2021-12-12T06:00:36.340126Z",
     "iopub.status.idle": "2021-12-12T06:00:36.367938Z",
     "shell.execute_reply": "2021-12-12T06:00:36.368477Z",
     "shell.execute_reply.started": "2021-12-12T05:59:57.278502Z"
    },
    "papermill": {
     "duration": 0.055508,
     "end_time": "2021-12-12T06:00:36.368704",
     "exception": false,
     "start_time": "2021-12-12T06:00:36.313196",
     "status": "completed"
    },
    "tags": []
   },
   "outputs": [],
   "source": [
    "unicorn = pd.read_csv('../input/unicorn-startups/Startups in 2021 end.csv')"
   ]
  },
  {
   "cell_type": "code",
   "execution_count": 3,
   "id": "4b3bb171",
   "metadata": {
    "execution": {
     "iopub.execute_input": "2021-12-12T06:00:36.421867Z",
     "iopub.status.busy": "2021-12-12T06:00:36.421157Z",
     "iopub.status.idle": "2021-12-12T06:00:36.445816Z",
     "shell.execute_reply": "2021-12-12T06:00:36.446302Z",
     "shell.execute_reply.started": "2021-12-12T05:59:57.300711Z"
    },
    "papermill": {
     "duration": 0.054258,
     "end_time": "2021-12-12T06:00:36.446502",
     "exception": false,
     "start_time": "2021-12-12T06:00:36.392244",
     "status": "completed"
    },
    "tags": []
   },
   "outputs": [
    {
     "name": "stdout",
     "output_type": "stream",
     "text": [
      "<class 'pandas.core.frame.DataFrame'>\n",
      "RangeIndex: 936 entries, 0 to 935\n",
      "Data columns (total 8 columns):\n",
      " #   Column            Non-Null Count  Dtype \n",
      "---  ------            --------------  ----- \n",
      " 0   Unnamed: 0        936 non-null    int64 \n",
      " 1   Company           936 non-null    object\n",
      " 2   Valuation ($B)    936 non-null    object\n",
      " 3   Date Joined       936 non-null    object\n",
      " 4   Country           936 non-null    object\n",
      " 5   City              921 non-null    object\n",
      " 6   Industry          936 non-null    object\n",
      " 7   Select Investors  935 non-null    object\n",
      "dtypes: int64(1), object(7)\n",
      "memory usage: 58.6+ KB\n"
     ]
    }
   ],
   "source": [
    "unicorn.info()"
   ]
  },
  {
   "cell_type": "code",
   "execution_count": 4,
   "id": "2a239713",
   "metadata": {
    "execution": {
     "iopub.execute_input": "2021-12-12T06:00:36.505445Z",
     "iopub.status.busy": "2021-12-12T06:00:36.504777Z",
     "iopub.status.idle": "2021-12-12T06:00:36.509104Z",
     "shell.execute_reply": "2021-12-12T06:00:36.508573Z",
     "shell.execute_reply.started": "2021-12-12T05:59:57.318245Z"
    },
    "papermill": {
     "duration": 0.039056,
     "end_time": "2021-12-12T06:00:36.509242",
     "exception": false,
     "start_time": "2021-12-12T06:00:36.470186",
     "status": "completed"
    },
    "tags": []
   },
   "outputs": [
    {
     "data": {
      "text/plain": [
       "Unnamed: 0           0\n",
       "Company              0\n",
       "Valuation ($B)       0\n",
       "Date Joined          0\n",
       "Country              0\n",
       "City                15\n",
       "Industry             0\n",
       "Select Investors     1\n",
       "dtype: int64"
      ]
     },
     "execution_count": 4,
     "metadata": {},
     "output_type": "execute_result"
    }
   ],
   "source": [
    "unicorn.isna().sum()"
   ]
  },
  {
   "cell_type": "code",
   "execution_count": 5,
   "id": "ff4033cd",
   "metadata": {
    "execution": {
     "iopub.execute_input": "2021-12-12T06:00:36.565012Z",
     "iopub.status.busy": "2021-12-12T06:00:36.562224Z",
     "iopub.status.idle": "2021-12-12T06:00:36.580575Z",
     "shell.execute_reply": "2021-12-12T06:00:36.581116Z",
     "shell.execute_reply.started": "2021-12-12T05:59:57.329955Z"
    },
    "papermill": {
     "duration": 0.047252,
     "end_time": "2021-12-12T06:00:36.581309",
     "exception": false,
     "start_time": "2021-12-12T06:00:36.534057",
     "status": "completed"
    },
    "tags": []
   },
   "outputs": [
    {
     "data": {
      "text/html": [
       "<div>\n",
       "<style scoped>\n",
       "    .dataframe tbody tr th:only-of-type {\n",
       "        vertical-align: middle;\n",
       "    }\n",
       "\n",
       "    .dataframe tbody tr th {\n",
       "        vertical-align: top;\n",
       "    }\n",
       "\n",
       "    .dataframe thead th {\n",
       "        text-align: right;\n",
       "    }\n",
       "</style>\n",
       "<table border=\"1\" class=\"dataframe\">\n",
       "  <thead>\n",
       "    <tr style=\"text-align: right;\">\n",
       "      <th></th>\n",
       "      <th>Unnamed: 0</th>\n",
       "      <th>Company</th>\n",
       "      <th>Valuation ($B)</th>\n",
       "      <th>Date Joined</th>\n",
       "      <th>Country</th>\n",
       "      <th>City</th>\n",
       "      <th>Industry</th>\n",
       "      <th>Select Investors</th>\n",
       "    </tr>\n",
       "  </thead>\n",
       "  <tbody>\n",
       "    <tr>\n",
       "      <th>0</th>\n",
       "      <td>0</td>\n",
       "      <td>Bytedance</td>\n",
       "      <td>$140</td>\n",
       "      <td>4/7/2017</td>\n",
       "      <td>China</td>\n",
       "      <td>Beijing</td>\n",
       "      <td>Artificial intelligence</td>\n",
       "      <td>Sequoia Capital China, SIG Asia Investments, S...</td>\n",
       "    </tr>\n",
       "    <tr>\n",
       "      <th>1</th>\n",
       "      <td>1</td>\n",
       "      <td>SpaceX</td>\n",
       "      <td>$100.3</td>\n",
       "      <td>12/1/2012</td>\n",
       "      <td>United States</td>\n",
       "      <td>Hawthorne</td>\n",
       "      <td>Other</td>\n",
       "      <td>Founders Fund, Draper Fisher Jurvetson, Rothen...</td>\n",
       "    </tr>\n",
       "    <tr>\n",
       "      <th>2</th>\n",
       "      <td>2</td>\n",
       "      <td>Stripe</td>\n",
       "      <td>$95</td>\n",
       "      <td>1/23/2014</td>\n",
       "      <td>United States</td>\n",
       "      <td>San Francisco</td>\n",
       "      <td>Fintech</td>\n",
       "      <td>Khosla Ventures, LowercaseCapital, capitalG</td>\n",
       "    </tr>\n",
       "    <tr>\n",
       "      <th>3</th>\n",
       "      <td>3</td>\n",
       "      <td>Klarna</td>\n",
       "      <td>$45.6</td>\n",
       "      <td>12/12/2011</td>\n",
       "      <td>Sweden</td>\n",
       "      <td>Stockholm</td>\n",
       "      <td>Fintech</td>\n",
       "      <td>Institutional Venture Partners, Sequoia Capita...</td>\n",
       "    </tr>\n",
       "    <tr>\n",
       "      <th>4</th>\n",
       "      <td>4</td>\n",
       "      <td>Canva</td>\n",
       "      <td>$40</td>\n",
       "      <td>1/8/2018</td>\n",
       "      <td>Australia</td>\n",
       "      <td>Surry Hills</td>\n",
       "      <td>Internet software &amp; services</td>\n",
       "      <td>Sequoia Capital China, Blackbird Ventures, Mat...</td>\n",
       "    </tr>\n",
       "  </tbody>\n",
       "</table>\n",
       "</div>"
      ],
      "text/plain": [
       "   Unnamed: 0    Company Valuation ($B) Date Joined        Country  \\\n",
       "0           0  Bytedance           $140    4/7/2017          China   \n",
       "1           1     SpaceX         $100.3   12/1/2012  United States   \n",
       "2           2     Stripe            $95   1/23/2014  United States   \n",
       "3           3     Klarna          $45.6  12/12/2011         Sweden   \n",
       "4           4      Canva            $40    1/8/2018      Australia   \n",
       "\n",
       "            City                      Industry  \\\n",
       "0        Beijing       Artificial intelligence   \n",
       "1      Hawthorne                         Other   \n",
       "2  San Francisco                       Fintech   \n",
       "3      Stockholm                       Fintech   \n",
       "4    Surry Hills  Internet software & services   \n",
       "\n",
       "                                    Select Investors  \n",
       "0  Sequoia Capital China, SIG Asia Investments, S...  \n",
       "1  Founders Fund, Draper Fisher Jurvetson, Rothen...  \n",
       "2        Khosla Ventures, LowercaseCapital, capitalG  \n",
       "3  Institutional Venture Partners, Sequoia Capita...  \n",
       "4  Sequoia Capital China, Blackbird Ventures, Mat...  "
      ]
     },
     "execution_count": 5,
     "metadata": {},
     "output_type": "execute_result"
    }
   ],
   "source": [
    "unicorn.head()"
   ]
  },
  {
   "cell_type": "code",
   "execution_count": 6,
   "id": "d0ad9147",
   "metadata": {
    "execution": {
     "iopub.execute_input": "2021-12-12T06:00:36.635553Z",
     "iopub.status.busy": "2021-12-12T06:00:36.634773Z",
     "iopub.status.idle": "2021-12-12T06:00:36.648841Z",
     "shell.execute_reply": "2021-12-12T06:00:36.648159Z",
     "shell.execute_reply.started": "2021-12-12T05:59:57.345324Z"
    },
    "papermill": {
     "duration": 0.042416,
     "end_time": "2021-12-12T06:00:36.649002",
     "exception": false,
     "start_time": "2021-12-12T06:00:36.606586",
     "status": "completed"
    },
    "tags": []
   },
   "outputs": [
    {
     "data": {
      "text/plain": [
       "False    936\n",
       "dtype: int64"
      ]
     },
     "execution_count": 6,
     "metadata": {},
     "output_type": "execute_result"
    }
   ],
   "source": [
    "unicorn.duplicated().value_counts()"
   ]
  },
  {
   "cell_type": "code",
   "execution_count": 7,
   "id": "f9652694",
   "metadata": {
    "execution": {
     "iopub.execute_input": "2021-12-12T06:00:36.707794Z",
     "iopub.status.busy": "2021-12-12T06:00:36.706768Z",
     "iopub.status.idle": "2021-12-12T06:00:36.711507Z",
     "shell.execute_reply": "2021-12-12T06:00:36.711954Z",
     "shell.execute_reply.started": "2021-12-12T05:59:57.358955Z"
    },
    "papermill": {
     "duration": 0.037096,
     "end_time": "2021-12-12T06:00:36.712152",
     "exception": false,
     "start_time": "2021-12-12T06:00:36.675056",
     "status": "completed"
    },
    "tags": []
   },
   "outputs": [
    {
     "data": {
      "text/plain": [
       "Fintech                                190\n",
       "Internet software & services           167\n",
       "E-commerce & direct-to-consumer        102\n",
       "Artificial intelligence                 69\n",
       "Health                                  63\n",
       "Supply chain, logistics, & delivery     51\n",
       "Other                                   51\n",
       "Cybersecurity                           41\n",
       "Mobile & telecommunications             37\n",
       "Data management & analytics             36\n",
       "Hardware                                32\n",
       "Auto & transportation                   29\n",
       "Edtech                                  27\n",
       "Consumer & retail                       23\n",
       "Travel                                  13\n",
       "Artificial Intelligence                  4\n",
       "Finttech                                 1\n",
       "Name: Industry, dtype: int64"
      ]
     },
     "execution_count": 7,
     "metadata": {},
     "output_type": "execute_result"
    }
   ],
   "source": [
    "unicorn['Industry'].value_counts()"
   ]
  },
  {
   "cell_type": "code",
   "execution_count": 8,
   "id": "fb754393",
   "metadata": {
    "execution": {
     "iopub.execute_input": "2021-12-12T06:00:36.768258Z",
     "iopub.status.busy": "2021-12-12T06:00:36.767608Z",
     "iopub.status.idle": "2021-12-12T06:00:36.775172Z",
     "shell.execute_reply": "2021-12-12T06:00:36.775713Z",
     "shell.execute_reply.started": "2021-12-12T05:59:57.371165Z"
    },
    "papermill": {
     "duration": 0.037533,
     "end_time": "2021-12-12T06:00:36.775947",
     "exception": false,
     "start_time": "2021-12-12T06:00:36.738414",
     "status": "completed"
    },
    "tags": []
   },
   "outputs": [
    {
     "data": {
      "text/plain": [
       "United States           477\n",
       "China                   169\n",
       "India                    51\n",
       "United Kingdom           37\n",
       "Germany                  23\n",
       "Israel                   21\n",
       "France                   19\n",
       "Canada                   15\n",
       "Brazil                   15\n",
       "South Korea              11\n",
       "Singapore                11\n",
       "Hong Kong                 7\n",
       "Japan                     6\n",
       "Australia                 6\n",
       "Mexico                    5\n",
       "Netherlands               5\n",
       "Indonesia                 4\n",
       "Spain                     4\n",
       "Sweden                    4\n",
       "Switzerland               4\n",
       "Ireland                   3\n",
       "United Arab Emirates      3\n",
       "Norway                    3\n",
       "Belgium                   2\n",
       "Thailand                  2\n",
       "Denmark                   2\n",
       "Philippines               2\n",
       "Finland                   2\n",
       "Colombia                  2\n",
       "South Africa              2\n",
       "Turkey                    2\n",
       "Austria                   2\n",
       "Chile                     1\n",
       "Malaysia                  1\n",
       "Czech Republic            1\n",
       "United States,            1\n",
       "Croatia                   1\n",
       "Nigeria                   1\n",
       "Bermuda                   1\n",
       "Senegal                   1\n",
       "Santa Clara               1\n",
       "Luxembourg                1\n",
       "Argentina                 1\n",
       "Vietnam                   1\n",
       "Estonia                   1\n",
       "Lithuania                 1\n",
       "Indonesia,                1\n",
       "Name: Country, dtype: int64"
      ]
     },
     "execution_count": 8,
     "metadata": {},
     "output_type": "execute_result"
    }
   ],
   "source": [
    "unicorn['Country'].value_counts()"
   ]
  },
  {
   "cell_type": "markdown",
   "id": "080f733d",
   "metadata": {
    "papermill": {
     "duration": 0.025287,
     "end_time": "2021-12-12T06:00:36.827222",
     "exception": false,
     "start_time": "2021-12-12T06:00:36.801935",
     "status": "completed"
    },
    "tags": []
   },
   "source": [
    "Cleaning:\n",
    "1. Remove Unamed column\n",
    "2. Set Valuation to float\n",
    "3. Sort out missing values City\n",
    "4. Sort of Select Investor missing value\n",
    "5. Split investor columns\n",
    "6. Date to datetime and format\n",
    "7. Clean up duplicates in Country and Industry columns"
   ]
  },
  {
   "cell_type": "code",
   "execution_count": 9,
   "id": "42335e14",
   "metadata": {
    "execution": {
     "iopub.execute_input": "2021-12-12T06:00:36.883594Z",
     "iopub.status.busy": "2021-12-12T06:00:36.881007Z",
     "iopub.status.idle": "2021-12-12T06:00:36.885976Z",
     "shell.execute_reply": "2021-12-12T06:00:36.886523Z",
     "shell.execute_reply.started": "2021-12-12T05:59:57.389282Z"
    },
    "papermill": {
     "duration": 0.033785,
     "end_time": "2021-12-12T06:00:36.886713",
     "exception": false,
     "start_time": "2021-12-12T06:00:36.852928",
     "status": "completed"
    },
    "tags": []
   },
   "outputs": [
    {
     "data": {
      "text/plain": [
       "Index(['Unnamed: 0', 'Company', 'Valuation ($B)', 'Date Joined', 'Country',\n",
       "       'City', 'Industry', 'Select Investors'],\n",
       "      dtype='object')"
      ]
     },
     "execution_count": 9,
     "metadata": {},
     "output_type": "execute_result"
    }
   ],
   "source": [
    "unicorn.columns"
   ]
  },
  {
   "cell_type": "code",
   "execution_count": 10,
   "id": "7142b797",
   "metadata": {
    "execution": {
     "iopub.execute_input": "2021-12-12T06:00:36.947421Z",
     "iopub.status.busy": "2021-12-12T06:00:36.946651Z",
     "iopub.status.idle": "2021-12-12T06:00:36.948106Z",
     "shell.execute_reply": "2021-12-12T06:00:36.948603Z",
     "shell.execute_reply.started": "2021-12-12T05:59:57.400368Z"
    },
    "papermill": {
     "duration": 0.035276,
     "end_time": "2021-12-12T06:00:36.948794",
     "exception": false,
     "start_time": "2021-12-12T06:00:36.913518",
     "status": "completed"
    },
    "tags": []
   },
   "outputs": [],
   "source": [
    "unicorn.drop(columns='Unnamed: 0', inplace=True) #dropping column"
   ]
  },
  {
   "cell_type": "code",
   "execution_count": 11,
   "id": "0e1ef79e",
   "metadata": {
    "execution": {
     "iopub.execute_input": "2021-12-12T06:00:37.006554Z",
     "iopub.status.busy": "2021-12-12T06:00:37.005833Z",
     "iopub.status.idle": "2021-12-12T06:00:37.018224Z",
     "shell.execute_reply": "2021-12-12T06:00:37.018929Z",
     "shell.execute_reply.started": "2021-12-12T05:59:57.414923Z"
    },
    "papermill": {
     "duration": 0.043077,
     "end_time": "2021-12-12T06:00:37.019137",
     "exception": false,
     "start_time": "2021-12-12T06:00:36.976060",
     "status": "completed"
    },
    "tags": []
   },
   "outputs": [
    {
     "data": {
      "text/html": [
       "<div>\n",
       "<style scoped>\n",
       "    .dataframe tbody tr th:only-of-type {\n",
       "        vertical-align: middle;\n",
       "    }\n",
       "\n",
       "    .dataframe tbody tr th {\n",
       "        vertical-align: top;\n",
       "    }\n",
       "\n",
       "    .dataframe thead th {\n",
       "        text-align: right;\n",
       "    }\n",
       "</style>\n",
       "<table border=\"1\" class=\"dataframe\">\n",
       "  <thead>\n",
       "    <tr style=\"text-align: right;\">\n",
       "      <th></th>\n",
       "      <th>Company</th>\n",
       "      <th>Valuation ($B)</th>\n",
       "      <th>Date Joined</th>\n",
       "      <th>Country</th>\n",
       "      <th>City</th>\n",
       "      <th>Industry</th>\n",
       "      <th>Select Investors</th>\n",
       "    </tr>\n",
       "  </thead>\n",
       "  <tbody>\n",
       "    <tr>\n",
       "      <th>0</th>\n",
       "      <td>Bytedance</td>\n",
       "      <td>$140</td>\n",
       "      <td>4/7/2017</td>\n",
       "      <td>China</td>\n",
       "      <td>Beijing</td>\n",
       "      <td>Artificial intelligence</td>\n",
       "      <td>Sequoia Capital China, SIG Asia Investments, S...</td>\n",
       "    </tr>\n",
       "    <tr>\n",
       "      <th>1</th>\n",
       "      <td>SpaceX</td>\n",
       "      <td>$100.3</td>\n",
       "      <td>12/1/2012</td>\n",
       "      <td>United States</td>\n",
       "      <td>Hawthorne</td>\n",
       "      <td>Other</td>\n",
       "      <td>Founders Fund, Draper Fisher Jurvetson, Rothen...</td>\n",
       "    </tr>\n",
       "    <tr>\n",
       "      <th>2</th>\n",
       "      <td>Stripe</td>\n",
       "      <td>$95</td>\n",
       "      <td>1/23/2014</td>\n",
       "      <td>United States</td>\n",
       "      <td>San Francisco</td>\n",
       "      <td>Fintech</td>\n",
       "      <td>Khosla Ventures, LowercaseCapital, capitalG</td>\n",
       "    </tr>\n",
       "    <tr>\n",
       "      <th>3</th>\n",
       "      <td>Klarna</td>\n",
       "      <td>$45.6</td>\n",
       "      <td>12/12/2011</td>\n",
       "      <td>Sweden</td>\n",
       "      <td>Stockholm</td>\n",
       "      <td>Fintech</td>\n",
       "      <td>Institutional Venture Partners, Sequoia Capita...</td>\n",
       "    </tr>\n",
       "    <tr>\n",
       "      <th>4</th>\n",
       "      <td>Canva</td>\n",
       "      <td>$40</td>\n",
       "      <td>1/8/2018</td>\n",
       "      <td>Australia</td>\n",
       "      <td>Surry Hills</td>\n",
       "      <td>Internet software &amp; services</td>\n",
       "      <td>Sequoia Capital China, Blackbird Ventures, Mat...</td>\n",
       "    </tr>\n",
       "  </tbody>\n",
       "</table>\n",
       "</div>"
      ],
      "text/plain": [
       "     Company Valuation ($B) Date Joined        Country           City  \\\n",
       "0  Bytedance           $140    4/7/2017          China        Beijing   \n",
       "1     SpaceX         $100.3   12/1/2012  United States      Hawthorne   \n",
       "2     Stripe            $95   1/23/2014  United States  San Francisco   \n",
       "3     Klarna          $45.6  12/12/2011         Sweden      Stockholm   \n",
       "4      Canva            $40    1/8/2018      Australia    Surry Hills   \n",
       "\n",
       "                       Industry  \\\n",
       "0       Artificial intelligence   \n",
       "1                         Other   \n",
       "2                       Fintech   \n",
       "3                       Fintech   \n",
       "4  Internet software & services   \n",
       "\n",
       "                                    Select Investors  \n",
       "0  Sequoia Capital China, SIG Asia Investments, S...  \n",
       "1  Founders Fund, Draper Fisher Jurvetson, Rothen...  \n",
       "2        Khosla Ventures, LowercaseCapital, capitalG  \n",
       "3  Institutional Venture Partners, Sequoia Capita...  \n",
       "4  Sequoia Capital China, Blackbird Ventures, Mat...  "
      ]
     },
     "execution_count": 11,
     "metadata": {},
     "output_type": "execute_result"
    }
   ],
   "source": [
    "unicorn.head()"
   ]
  },
  {
   "cell_type": "code",
   "execution_count": 12,
   "id": "1d488703",
   "metadata": {
    "execution": {
     "iopub.execute_input": "2021-12-12T06:00:37.080449Z",
     "iopub.status.busy": "2021-12-12T06:00:37.079760Z",
     "iopub.status.idle": "2021-12-12T06:00:37.087459Z",
     "shell.execute_reply": "2021-12-12T06:00:37.086824Z",
     "shell.execute_reply.started": "2021-12-12T05:59:57.434997Z"
    },
    "papermill": {
     "duration": 0.037376,
     "end_time": "2021-12-12T06:00:37.087617",
     "exception": false,
     "start_time": "2021-12-12T06:00:37.050241",
     "status": "completed"
    },
    "tags": []
   },
   "outputs": [],
   "source": [
    "unicorn['Valuation ($B)'] = unicorn['Valuation ($B)'].str.replace('$', '', regex=False).astype(float) #removing $ and casting to float"
   ]
  },
  {
   "cell_type": "code",
   "execution_count": 13,
   "id": "ee3467ea",
   "metadata": {
    "execution": {
     "iopub.execute_input": "2021-12-12T06:00:37.157199Z",
     "iopub.status.busy": "2021-12-12T06:00:37.156390Z",
     "iopub.status.idle": "2021-12-12T06:00:37.159274Z",
     "shell.execute_reply": "2021-12-12T06:00:37.159822Z",
     "shell.execute_reply.started": "2021-12-12T05:59:57.443032Z"
    },
    "papermill": {
     "duration": 0.044422,
     "end_time": "2021-12-12T06:00:37.160033",
     "exception": false,
     "start_time": "2021-12-12T06:00:37.115611",
     "status": "completed"
    },
    "tags": []
   },
   "outputs": [
    {
     "name": "stdout",
     "output_type": "stream",
     "text": [
      "<class 'pandas.core.frame.DataFrame'>\n",
      "RangeIndex: 936 entries, 0 to 935\n",
      "Data columns (total 7 columns):\n",
      " #   Column            Non-Null Count  Dtype  \n",
      "---  ------            --------------  -----  \n",
      " 0   Company           936 non-null    object \n",
      " 1   Valuation ($B)    936 non-null    float64\n",
      " 2   Date Joined       936 non-null    object \n",
      " 3   Country           936 non-null    object \n",
      " 4   City              921 non-null    object \n",
      " 5   Industry          936 non-null    object \n",
      " 6   Select Investors  935 non-null    object \n",
      "dtypes: float64(1), object(6)\n",
      "memory usage: 51.3+ KB\n"
     ]
    }
   ],
   "source": [
    "unicorn.info()"
   ]
  },
  {
   "cell_type": "code",
   "execution_count": 14,
   "id": "c3c5110c",
   "metadata": {
    "execution": {
     "iopub.execute_input": "2021-12-12T06:00:37.234146Z",
     "iopub.status.busy": "2021-12-12T06:00:37.233422Z",
     "iopub.status.idle": "2021-12-12T06:00:37.236295Z",
     "shell.execute_reply": "2021-12-12T06:00:37.236934Z",
     "shell.execute_reply.started": "2021-12-12T05:59:57.466233Z"
    },
    "papermill": {
     "duration": 0.050047,
     "end_time": "2021-12-12T06:00:37.237128",
     "exception": false,
     "start_time": "2021-12-12T06:00:37.187081",
     "status": "completed"
    },
    "tags": []
   },
   "outputs": [
    {
     "data": {
      "text/html": [
       "<div>\n",
       "<style scoped>\n",
       "    .dataframe tbody tr th:only-of-type {\n",
       "        vertical-align: middle;\n",
       "    }\n",
       "\n",
       "    .dataframe tbody tr th {\n",
       "        vertical-align: top;\n",
       "    }\n",
       "\n",
       "    .dataframe thead th {\n",
       "        text-align: right;\n",
       "    }\n",
       "</style>\n",
       "<table border=\"1\" class=\"dataframe\">\n",
       "  <thead>\n",
       "    <tr style=\"text-align: right;\">\n",
       "      <th></th>\n",
       "      <th>Company</th>\n",
       "      <th>Valuation ($B)</th>\n",
       "      <th>Date Joined</th>\n",
       "      <th>Country</th>\n",
       "      <th>City</th>\n",
       "      <th>Industry</th>\n",
       "      <th>Select Investors</th>\n",
       "    </tr>\n",
       "  </thead>\n",
       "  <tbody>\n",
       "    <tr>\n",
       "      <th>11</th>\n",
       "      <td>FTX</td>\n",
       "      <td>25.0</td>\n",
       "      <td>7/20/2021</td>\n",
       "      <td>Hong Kong</td>\n",
       "      <td>NaN</td>\n",
       "      <td>Fintech</td>\n",
       "      <td>Sequoia Capital, Thoma Bravo, Softbank</td>\n",
       "    </tr>\n",
       "    <tr>\n",
       "      <th>192</th>\n",
       "      <td>HyalRoute</td>\n",
       "      <td>3.5</td>\n",
       "      <td>5/26/2020</td>\n",
       "      <td>Singapore</td>\n",
       "      <td>NaN</td>\n",
       "      <td>Mobile &amp; telecommunications</td>\n",
       "      <td>Kuang-Chi</td>\n",
       "    </tr>\n",
       "    <tr>\n",
       "      <th>399</th>\n",
       "      <td>Advance Intelligence Group</td>\n",
       "      <td>2.0</td>\n",
       "      <td>9/23/2021</td>\n",
       "      <td>Singapore</td>\n",
       "      <td>NaN</td>\n",
       "      <td>Artificial intelligence</td>\n",
       "      <td>Vision Plus Capital, GSR Ventures, ZhenFund</td>\n",
       "    </tr>\n",
       "    <tr>\n",
       "      <th>572</th>\n",
       "      <td>Trax</td>\n",
       "      <td>1.3</td>\n",
       "      <td>7/22/2019</td>\n",
       "      <td>Singapore</td>\n",
       "      <td>NaN</td>\n",
       "      <td>Artificial intelligence</td>\n",
       "      <td>Hopu Investment Management, Boyu Capital, DC T...</td>\n",
       "    </tr>\n",
       "    <tr>\n",
       "      <th>677</th>\n",
       "      <td>Amber Group</td>\n",
       "      <td>1.1</td>\n",
       "      <td>6/21/2021</td>\n",
       "      <td>Hong Kong</td>\n",
       "      <td>NaN</td>\n",
       "      <td>Fintech</td>\n",
       "      <td>Tiger Global Management, Tiger Brokers, DCM Ve...</td>\n",
       "    </tr>\n",
       "    <tr>\n",
       "      <th>682</th>\n",
       "      <td>Carousell</td>\n",
       "      <td>1.1</td>\n",
       "      <td>9/15/2021</td>\n",
       "      <td>Singapore</td>\n",
       "      <td>NaN</td>\n",
       "      <td>E-commerce &amp; direct-to-consumer</td>\n",
       "      <td>500 Global, Rakuten Ventures, Golden Gate Vent...</td>\n",
       "    </tr>\n",
       "    <tr>\n",
       "      <th>735</th>\n",
       "      <td>WeLab</td>\n",
       "      <td>1.0</td>\n",
       "      <td>11/8/2017</td>\n",
       "      <td>Hong Kong</td>\n",
       "      <td>NaN</td>\n",
       "      <td>Fintech</td>\n",
       "      <td>Sequoia Capital China, ING, Alibaba Entreprene...</td>\n",
       "    </tr>\n",
       "    <tr>\n",
       "      <th>812</th>\n",
       "      <td>PatSnap</td>\n",
       "      <td>1.0</td>\n",
       "      <td>3/16/2021</td>\n",
       "      <td>Singapore</td>\n",
       "      <td>NaN</td>\n",
       "      <td>Internet software &amp; services</td>\n",
       "      <td>Sequoia Capital China, Shunwei Capital Partner...</td>\n",
       "    </tr>\n",
       "    <tr>\n",
       "      <th>840</th>\n",
       "      <td>Moglix</td>\n",
       "      <td>1.0</td>\n",
       "      <td>5/17/2021</td>\n",
       "      <td>Singapore</td>\n",
       "      <td>NaN</td>\n",
       "      <td>E-commerce &amp; direct-to-consumer</td>\n",
       "      <td>Jungle Ventures, Accel, Venture Highway</td>\n",
       "    </tr>\n",
       "    <tr>\n",
       "      <th>843</th>\n",
       "      <td>Matrixport</td>\n",
       "      <td>1.0</td>\n",
       "      <td>6/1/2021</td>\n",
       "      <td>Singapore</td>\n",
       "      <td>NaN</td>\n",
       "      <td>Fintech</td>\n",
       "      <td>Dragonfly Captial, Qiming Venture Partners, DS...</td>\n",
       "    </tr>\n",
       "    <tr>\n",
       "      <th>848</th>\n",
       "      <td>Carro</td>\n",
       "      <td>1.0</td>\n",
       "      <td>6/14/2021</td>\n",
       "      <td>Singapore</td>\n",
       "      <td>NaN</td>\n",
       "      <td>E-commerce &amp; direct-to-consumer</td>\n",
       "      <td>SingTel Innov8, Alpha JWC Ventures, Golden Gat...</td>\n",
       "    </tr>\n",
       "    <tr>\n",
       "      <th>861</th>\n",
       "      <td>bolttech</td>\n",
       "      <td>1.0</td>\n",
       "      <td>7/1/2021</td>\n",
       "      <td>Singapore</td>\n",
       "      <td>NaN</td>\n",
       "      <td>Fintech</td>\n",
       "      <td>Mundi Ventures, Doqling Capital Partners, Acti...</td>\n",
       "    </tr>\n",
       "    <tr>\n",
       "      <th>872</th>\n",
       "      <td>NIUM</td>\n",
       "      <td>1.0</td>\n",
       "      <td>7/13/2021</td>\n",
       "      <td>Singapore</td>\n",
       "      <td>NaN</td>\n",
       "      <td>Fintech</td>\n",
       "      <td>Vertex Ventures SE Asia, Global Founders Capit...</td>\n",
       "    </tr>\n",
       "    <tr>\n",
       "      <th>885</th>\n",
       "      <td>Cider</td>\n",
       "      <td>1.0</td>\n",
       "      <td>9/2/2021</td>\n",
       "      <td>Hong Kong</td>\n",
       "      <td>NaN</td>\n",
       "      <td>E-commerce &amp; direct-to-consumer</td>\n",
       "      <td>Andreessen Horowitz, DST Global, IDG Capital</td>\n",
       "    </tr>\n",
       "    <tr>\n",
       "      <th>897</th>\n",
       "      <td>Ninja Van</td>\n",
       "      <td>1.0</td>\n",
       "      <td>9/27/2021</td>\n",
       "      <td>Singapore</td>\n",
       "      <td>NaN</td>\n",
       "      <td>Supply chain, logistics, &amp; delivery</td>\n",
       "      <td>B Capital Group, Monk's Hill Ventures, Dynamic...</td>\n",
       "    </tr>\n",
       "  </tbody>\n",
       "</table>\n",
       "</div>"
      ],
      "text/plain": [
       "                        Company  Valuation ($B) Date Joined    Country City  \\\n",
       "11                          FTX            25.0   7/20/2021  Hong Kong  NaN   \n",
       "192                   HyalRoute             3.5   5/26/2020  Singapore  NaN   \n",
       "399  Advance Intelligence Group             2.0   9/23/2021  Singapore  NaN   \n",
       "572                        Trax             1.3   7/22/2019  Singapore  NaN   \n",
       "677                 Amber Group             1.1   6/21/2021  Hong Kong  NaN   \n",
       "682                   Carousell             1.1   9/15/2021  Singapore  NaN   \n",
       "735                       WeLab             1.0   11/8/2017  Hong Kong  NaN   \n",
       "812                     PatSnap             1.0   3/16/2021  Singapore  NaN   \n",
       "840                      Moglix             1.0   5/17/2021  Singapore  NaN   \n",
       "843                  Matrixport             1.0    6/1/2021  Singapore  NaN   \n",
       "848                       Carro             1.0   6/14/2021  Singapore  NaN   \n",
       "861                    bolttech             1.0    7/1/2021  Singapore  NaN   \n",
       "872                        NIUM             1.0   7/13/2021  Singapore  NaN   \n",
       "885                       Cider             1.0    9/2/2021  Hong Kong  NaN   \n",
       "897                   Ninja Van             1.0   9/27/2021  Singapore  NaN   \n",
       "\n",
       "                                Industry  \\\n",
       "11                               Fintech   \n",
       "192          Mobile & telecommunications   \n",
       "399              Artificial intelligence   \n",
       "572              Artificial intelligence   \n",
       "677                              Fintech   \n",
       "682      E-commerce & direct-to-consumer   \n",
       "735                              Fintech   \n",
       "812         Internet software & services   \n",
       "840      E-commerce & direct-to-consumer   \n",
       "843                              Fintech   \n",
       "848      E-commerce & direct-to-consumer   \n",
       "861                              Fintech   \n",
       "872                              Fintech   \n",
       "885      E-commerce & direct-to-consumer   \n",
       "897  Supply chain, logistics, & delivery   \n",
       "\n",
       "                                      Select Investors  \n",
       "11              Sequoia Capital, Thoma Bravo, Softbank  \n",
       "192                                          Kuang-Chi  \n",
       "399        Vision Plus Capital, GSR Ventures, ZhenFund  \n",
       "572  Hopu Investment Management, Boyu Capital, DC T...  \n",
       "677  Tiger Global Management, Tiger Brokers, DCM Ve...  \n",
       "682  500 Global, Rakuten Ventures, Golden Gate Vent...  \n",
       "735  Sequoia Capital China, ING, Alibaba Entreprene...  \n",
       "812  Sequoia Capital China, Shunwei Capital Partner...  \n",
       "840            Jungle Ventures, Accel, Venture Highway  \n",
       "843  Dragonfly Captial, Qiming Venture Partners, DS...  \n",
       "848  SingTel Innov8, Alpha JWC Ventures, Golden Gat...  \n",
       "861  Mundi Ventures, Doqling Capital Partners, Acti...  \n",
       "872  Vertex Ventures SE Asia, Global Founders Capit...  \n",
       "885       Andreessen Horowitz, DST Global, IDG Capital  \n",
       "897  B Capital Group, Monk's Hill Ventures, Dynamic...  "
      ]
     },
     "execution_count": 14,
     "metadata": {},
     "output_type": "execute_result"
    }
   ],
   "source": [
    "unicorn[unicorn['City'].isna()] #all missing cities are city-states, meaning they are the same as Country column"
   ]
  },
  {
   "cell_type": "code",
   "execution_count": 15,
   "id": "c0a3842a",
   "metadata": {
    "execution": {
     "iopub.execute_input": "2021-12-12T06:00:37.297106Z",
     "iopub.status.busy": "2021-12-12T06:00:37.296423Z",
     "iopub.status.idle": "2021-12-12T06:00:37.303014Z",
     "shell.execute_reply": "2021-12-12T06:00:37.302294Z",
     "shell.execute_reply.started": "2021-12-12T05:59:57.490007Z"
    },
    "papermill": {
     "duration": 0.037227,
     "end_time": "2021-12-12T06:00:37.303173",
     "exception": false,
     "start_time": "2021-12-12T06:00:37.265946",
     "status": "completed"
    },
    "tags": []
   },
   "outputs": [],
   "source": [
    "unicorn['City'].fillna(unicorn['Country'], inplace=True) #filling NaN with Country column"
   ]
  },
  {
   "cell_type": "code",
   "execution_count": 16,
   "id": "b644caff",
   "metadata": {
    "execution": {
     "iopub.execute_input": "2021-12-12T06:00:37.362406Z",
     "iopub.status.busy": "2021-12-12T06:00:37.361706Z",
     "iopub.status.idle": "2021-12-12T06:00:37.373898Z",
     "shell.execute_reply": "2021-12-12T06:00:37.374411Z",
     "shell.execute_reply.started": "2021-12-12T05:59:57.499018Z"
    },
    "papermill": {
     "duration": 0.043442,
     "end_time": "2021-12-12T06:00:37.374605",
     "exception": false,
     "start_time": "2021-12-12T06:00:37.331163",
     "status": "completed"
    },
    "tags": []
   },
   "outputs": [
    {
     "data": {
      "text/html": [
       "<div>\n",
       "<style scoped>\n",
       "    .dataframe tbody tr th:only-of-type {\n",
       "        vertical-align: middle;\n",
       "    }\n",
       "\n",
       "    .dataframe tbody tr th {\n",
       "        vertical-align: top;\n",
       "    }\n",
       "\n",
       "    .dataframe thead th {\n",
       "        text-align: right;\n",
       "    }\n",
       "</style>\n",
       "<table border=\"1\" class=\"dataframe\">\n",
       "  <thead>\n",
       "    <tr style=\"text-align: right;\">\n",
       "      <th></th>\n",
       "      <th>Company</th>\n",
       "      <th>Valuation ($B)</th>\n",
       "      <th>Date Joined</th>\n",
       "      <th>Country</th>\n",
       "      <th>City</th>\n",
       "      <th>Industry</th>\n",
       "      <th>Select Investors</th>\n",
       "    </tr>\n",
       "  </thead>\n",
       "  <tbody>\n",
       "    <tr>\n",
       "      <th>710</th>\n",
       "      <td>LinkSure Network</td>\n",
       "      <td>1.0</td>\n",
       "      <td>1/1/2015</td>\n",
       "      <td>China</td>\n",
       "      <td>Shanghai</td>\n",
       "      <td>Mobile &amp; telecommunications</td>\n",
       "      <td>NaN</td>\n",
       "    </tr>\n",
       "  </tbody>\n",
       "</table>\n",
       "</div>"
      ],
      "text/plain": [
       "              Company  Valuation ($B) Date Joined Country      City  \\\n",
       "710  LinkSure Network             1.0    1/1/2015   China  Shanghai   \n",
       "\n",
       "                        Industry Select Investors  \n",
       "710  Mobile & telecommunications              NaN  "
      ]
     },
     "execution_count": 16,
     "metadata": {},
     "output_type": "execute_result"
    }
   ],
   "source": [
    "unicorn[unicorn['Select Investors'].isna()]"
   ]
  },
  {
   "cell_type": "markdown",
   "id": "04177340",
   "metadata": {
    "papermill": {
     "duration": 0.027724,
     "end_time": "2021-12-12T06:00:37.430860",
     "exception": false,
     "start_time": "2021-12-12T06:00:37.403136",
     "status": "completed"
    },
    "tags": []
   },
   "source": [
    "Filled in NaN with information from https://www.cbinsights.com/company/linksure-network/financials"
   ]
  },
  {
   "cell_type": "code",
   "execution_count": 17,
   "id": "4af5bb30",
   "metadata": {
    "execution": {
     "iopub.execute_input": "2021-12-12T06:00:37.493484Z",
     "iopub.status.busy": "2021-12-12T06:00:37.492812Z",
     "iopub.status.idle": "2021-12-12T06:00:37.495548Z",
     "shell.execute_reply": "2021-12-12T06:00:37.494866Z",
     "shell.execute_reply.started": "2021-12-12T05:59:57.519120Z"
    },
    "papermill": {
     "duration": 0.03664,
     "end_time": "2021-12-12T06:00:37.495715",
     "exception": false,
     "start_time": "2021-12-12T06:00:37.459075",
     "status": "completed"
    },
    "tags": []
   },
   "outputs": [],
   "source": [
    "unicorn['Select Investors'].fillna('Haitong Kaiyuan Investment, Northern Light Venture Capital', inplace=True)"
   ]
  },
  {
   "cell_type": "code",
   "execution_count": 18,
   "id": "29598a0a",
   "metadata": {
    "execution": {
     "iopub.execute_input": "2021-12-12T06:00:37.564433Z",
     "iopub.status.busy": "2021-12-12T06:00:37.555090Z",
     "iopub.status.idle": "2021-12-12T06:00:37.567102Z",
     "shell.execute_reply": "2021-12-12T06:00:37.566555Z",
     "shell.execute_reply.started": "2021-12-12T05:59:57.526378Z"
    },
    "papermill": {
     "duration": 0.043368,
     "end_time": "2021-12-12T06:00:37.567264",
     "exception": false,
     "start_time": "2021-12-12T06:00:37.523896",
     "status": "completed"
    },
    "tags": []
   },
   "outputs": [],
   "source": [
    "unicorn[['Investor 1', 'Investor 2', 'Investor 3', 'Investor 4']] = unicorn['Select Investors'].str.split(', ', expand=True) #splitting into new columns"
   ]
  },
  {
   "cell_type": "code",
   "execution_count": 19,
   "id": "27205857",
   "metadata": {
    "execution": {
     "iopub.execute_input": "2021-12-12T06:00:37.627713Z",
     "iopub.status.busy": "2021-12-12T06:00:37.626985Z",
     "iopub.status.idle": "2021-12-12T06:00:37.631759Z",
     "shell.execute_reply": "2021-12-12T06:00:37.632273Z",
     "shell.execute_reply.started": "2021-12-12T05:59:57.542122Z"
    },
    "papermill": {
     "duration": 0.036854,
     "end_time": "2021-12-12T06:00:37.632498",
     "exception": false,
     "start_time": "2021-12-12T06:00:37.595644",
     "status": "completed"
    },
    "tags": []
   },
   "outputs": [],
   "source": [
    "unicorn.drop(columns='Select Investors', inplace=True) #dropping column"
   ]
  },
  {
   "cell_type": "code",
   "execution_count": 20,
   "id": "7550d99f",
   "metadata": {
    "execution": {
     "iopub.execute_input": "2021-12-12T06:00:37.694545Z",
     "iopub.status.busy": "2021-12-12T06:00:37.693806Z",
     "iopub.status.idle": "2021-12-12T06:00:37.764166Z",
     "shell.execute_reply": "2021-12-12T06:00:37.763548Z",
     "shell.execute_reply.started": "2021-12-12T05:59:57.550408Z"
    },
    "papermill": {
     "duration": 0.102641,
     "end_time": "2021-12-12T06:00:37.764330",
     "exception": false,
     "start_time": "2021-12-12T06:00:37.661689",
     "status": "completed"
    },
    "tags": []
   },
   "outputs": [],
   "source": [
    "unicorn['Date Joined'] = pd.to_datetime(unicorn['Date Joined']) #setting date to datetime"
   ]
  },
  {
   "cell_type": "code",
   "execution_count": 21,
   "id": "8f97e151",
   "metadata": {
    "execution": {
     "iopub.execute_input": "2021-12-12T06:00:37.829096Z",
     "iopub.status.busy": "2021-12-12T06:00:37.828342Z",
     "iopub.status.idle": "2021-12-12T06:00:37.837702Z",
     "shell.execute_reply": "2021-12-12T06:00:37.838381Z",
     "shell.execute_reply.started": "2021-12-12T05:59:57.622842Z"
    },
    "papermill": {
     "duration": 0.045237,
     "end_time": "2021-12-12T06:00:37.838577",
     "exception": false,
     "start_time": "2021-12-12T06:00:37.793340",
     "status": "completed"
    },
    "tags": []
   },
   "outputs": [
    {
     "name": "stdout",
     "output_type": "stream",
     "text": [
      "<class 'pandas.core.frame.DataFrame'>\n",
      "RangeIndex: 936 entries, 0 to 935\n",
      "Data columns (total 10 columns):\n",
      " #   Column          Non-Null Count  Dtype         \n",
      "---  ------          --------------  -----         \n",
      " 0   Company         936 non-null    object        \n",
      " 1   Valuation ($B)  936 non-null    float64       \n",
      " 2   Date Joined     936 non-null    datetime64[ns]\n",
      " 3   Country         936 non-null    object        \n",
      " 4   City            936 non-null    object        \n",
      " 5   Industry        936 non-null    object        \n",
      " 6   Investor 1      936 non-null    object        \n",
      " 7   Investor 2      890 non-null    object        \n",
      " 8   Investor 3      806 non-null    object        \n",
      " 9   Investor 4      7 non-null      object        \n",
      "dtypes: datetime64[ns](1), float64(1), object(8)\n",
      "memory usage: 73.2+ KB\n"
     ]
    }
   ],
   "source": [
    "unicorn.info()"
   ]
  },
  {
   "cell_type": "code",
   "execution_count": 22,
   "id": "89c8fad6",
   "metadata": {
    "execution": {
     "iopub.execute_input": "2021-12-12T06:00:37.903055Z",
     "iopub.status.busy": "2021-12-12T06:00:37.902323Z",
     "iopub.status.idle": "2021-12-12T06:00:37.904670Z",
     "shell.execute_reply": "2021-12-12T06:00:37.905115Z",
     "shell.execute_reply.started": "2021-12-12T05:59:57.637837Z"
    },
    "papermill": {
     "duration": 0.038052,
     "end_time": "2021-12-12T06:00:37.905311",
     "exception": false,
     "start_time": "2021-12-12T06:00:37.867259",
     "status": "completed"
    },
    "tags": []
   },
   "outputs": [],
   "source": [
    "unicorn['Country'] = unicorn['Country'].str.replace(',', '')"
   ]
  },
  {
   "cell_type": "code",
   "execution_count": 23,
   "id": "333c5069",
   "metadata": {
    "execution": {
     "iopub.execute_input": "2021-12-12T06:00:37.965482Z",
     "iopub.status.busy": "2021-12-12T06:00:37.964799Z",
     "iopub.status.idle": "2021-12-12T06:00:37.969999Z",
     "shell.execute_reply": "2021-12-12T06:00:37.970533Z",
     "shell.execute_reply.started": "2021-12-12T05:59:57.649994Z"
    },
    "papermill": {
     "duration": 0.036966,
     "end_time": "2021-12-12T06:00:37.970731",
     "exception": false,
     "start_time": "2021-12-12T06:00:37.933765",
     "status": "completed"
    },
    "tags": []
   },
   "outputs": [],
   "source": [
    "unicorn['Industry'] = unicorn['Industry'].str.replace(',', '')"
   ]
  },
  {
   "cell_type": "code",
   "execution_count": 24,
   "id": "a890223a",
   "metadata": {
    "execution": {
     "iopub.execute_input": "2021-12-12T06:00:38.039949Z",
     "iopub.status.busy": "2021-12-12T06:00:38.039176Z",
     "iopub.status.idle": "2021-12-12T06:00:38.045930Z",
     "shell.execute_reply": "2021-12-12T06:00:38.046681Z",
     "shell.execute_reply.started": "2021-12-12T05:59:57.663254Z"
    },
    "papermill": {
     "duration": 0.046437,
     "end_time": "2021-12-12T06:00:38.046941",
     "exception": false,
     "start_time": "2021-12-12T06:00:38.000504",
     "status": "completed"
    },
    "tags": []
   },
   "outputs": [
    {
     "name": "stdout",
     "output_type": "stream",
     "text": [
      "<class 'pandas.core.frame.DataFrame'>\n",
      "RangeIndex: 936 entries, 0 to 935\n",
      "Data columns (total 10 columns):\n",
      " #   Column          Non-Null Count  Dtype         \n",
      "---  ------          --------------  -----         \n",
      " 0   Company         936 non-null    object        \n",
      " 1   Valuation ($B)  936 non-null    float64       \n",
      " 2   Date Joined     936 non-null    datetime64[ns]\n",
      " 3   Country         936 non-null    object        \n",
      " 4   City            936 non-null    object        \n",
      " 5   Industry        936 non-null    object        \n",
      " 6   Investor 1      936 non-null    object        \n",
      " 7   Investor 2      890 non-null    object        \n",
      " 8   Investor 3      806 non-null    object        \n",
      " 9   Investor 4      7 non-null      object        \n",
      "dtypes: datetime64[ns](1), float64(1), object(8)\n",
      "memory usage: 73.2+ KB\n"
     ]
    }
   ],
   "source": [
    "unicorn.info()"
   ]
  },
  {
   "cell_type": "code",
   "execution_count": 25,
   "id": "ebcf1cb4",
   "metadata": {
    "execution": {
     "iopub.execute_input": "2021-12-12T06:00:38.111718Z",
     "iopub.status.busy": "2021-12-12T06:00:38.111016Z",
     "iopub.status.idle": "2021-12-12T06:00:38.117395Z",
     "shell.execute_reply": "2021-12-12T06:00:38.117896Z",
     "shell.execute_reply.started": "2021-12-12T05:59:57.681894Z"
    },
    "papermill": {
     "duration": 0.039259,
     "end_time": "2021-12-12T06:00:38.118080",
     "exception": false,
     "start_time": "2021-12-12T06:00:38.078821",
     "status": "completed"
    },
    "tags": []
   },
   "outputs": [
    {
     "data": {
      "text/plain": [
       "array([False, False, False, False, False, False, False, False, False])"
      ]
     },
     "execution_count": 25,
     "metadata": {},
     "output_type": "execute_result"
    }
   ],
   "source": [
    "unicorn.columns[:-1].str.contains(',')"
   ]
  },
  {
   "cell_type": "code",
   "execution_count": 26,
   "id": "ef899c99",
   "metadata": {
    "execution": {
     "iopub.execute_input": "2021-12-12T06:00:38.179581Z",
     "iopub.status.busy": "2021-12-12T06:00:38.178891Z",
     "iopub.status.idle": "2021-12-12T06:00:38.193991Z",
     "shell.execute_reply": "2021-12-12T06:00:38.194542Z",
     "shell.execute_reply.started": "2021-12-12T05:59:57.694971Z"
    },
    "papermill": {
     "duration": 0.047853,
     "end_time": "2021-12-12T06:00:38.194746",
     "exception": false,
     "start_time": "2021-12-12T06:00:38.146893",
     "status": "completed"
    },
    "tags": []
   },
   "outputs": [
    {
     "data": {
      "text/html": [
       "<div>\n",
       "<style scoped>\n",
       "    .dataframe tbody tr th:only-of-type {\n",
       "        vertical-align: middle;\n",
       "    }\n",
       "\n",
       "    .dataframe tbody tr th {\n",
       "        vertical-align: top;\n",
       "    }\n",
       "\n",
       "    .dataframe thead th {\n",
       "        text-align: right;\n",
       "    }\n",
       "</style>\n",
       "<table border=\"1\" class=\"dataframe\">\n",
       "  <thead>\n",
       "    <tr style=\"text-align: right;\">\n",
       "      <th></th>\n",
       "      <th>Company</th>\n",
       "      <th>Valuation ($B)</th>\n",
       "      <th>Date Joined</th>\n",
       "      <th>Country</th>\n",
       "      <th>City</th>\n",
       "      <th>Industry</th>\n",
       "      <th>Investor 1</th>\n",
       "      <th>Investor 2</th>\n",
       "      <th>Investor 3</th>\n",
       "      <th>Investor 4</th>\n",
       "    </tr>\n",
       "  </thead>\n",
       "  <tbody>\n",
       "    <tr>\n",
       "      <th>0</th>\n",
       "      <td>Bytedance</td>\n",
       "      <td>140.0</td>\n",
       "      <td>2017-04-07</td>\n",
       "      <td>China</td>\n",
       "      <td>Beijing</td>\n",
       "      <td>Artificial intelligence</td>\n",
       "      <td>Sequoia Capital China</td>\n",
       "      <td>SIG Asia Investments</td>\n",
       "      <td>Sina Weibo</td>\n",
       "      <td>Softbank Group</td>\n",
       "    </tr>\n",
       "    <tr>\n",
       "      <th>1</th>\n",
       "      <td>SpaceX</td>\n",
       "      <td>100.3</td>\n",
       "      <td>2012-12-01</td>\n",
       "      <td>United States</td>\n",
       "      <td>Hawthorne</td>\n",
       "      <td>Other</td>\n",
       "      <td>Founders Fund</td>\n",
       "      <td>Draper Fisher Jurvetson</td>\n",
       "      <td>Rothenberg Ventures</td>\n",
       "      <td>None</td>\n",
       "    </tr>\n",
       "    <tr>\n",
       "      <th>2</th>\n",
       "      <td>Stripe</td>\n",
       "      <td>95.0</td>\n",
       "      <td>2014-01-23</td>\n",
       "      <td>United States</td>\n",
       "      <td>San Francisco</td>\n",
       "      <td>Fintech</td>\n",
       "      <td>Khosla Ventures</td>\n",
       "      <td>LowercaseCapital</td>\n",
       "      <td>capitalG</td>\n",
       "      <td>None</td>\n",
       "    </tr>\n",
       "    <tr>\n",
       "      <th>3</th>\n",
       "      <td>Klarna</td>\n",
       "      <td>45.6</td>\n",
       "      <td>2011-12-12</td>\n",
       "      <td>Sweden</td>\n",
       "      <td>Stockholm</td>\n",
       "      <td>Fintech</td>\n",
       "      <td>Institutional Venture Partners</td>\n",
       "      <td>Sequoia Capital</td>\n",
       "      <td>General Atlantic</td>\n",
       "      <td>None</td>\n",
       "    </tr>\n",
       "    <tr>\n",
       "      <th>4</th>\n",
       "      <td>Canva</td>\n",
       "      <td>40.0</td>\n",
       "      <td>2018-01-08</td>\n",
       "      <td>Australia</td>\n",
       "      <td>Surry Hills</td>\n",
       "      <td>Internet software &amp; services</td>\n",
       "      <td>Sequoia Capital China</td>\n",
       "      <td>Blackbird Ventures</td>\n",
       "      <td>Matrix Partners</td>\n",
       "      <td>None</td>\n",
       "    </tr>\n",
       "  </tbody>\n",
       "</table>\n",
       "</div>"
      ],
      "text/plain": [
       "     Company  Valuation ($B) Date Joined        Country           City  \\\n",
       "0  Bytedance           140.0  2017-04-07          China        Beijing   \n",
       "1     SpaceX           100.3  2012-12-01  United States      Hawthorne   \n",
       "2     Stripe            95.0  2014-01-23  United States  San Francisco   \n",
       "3     Klarna            45.6  2011-12-12         Sweden      Stockholm   \n",
       "4      Canva            40.0  2018-01-08      Australia    Surry Hills   \n",
       "\n",
       "                       Industry                      Investor 1  \\\n",
       "0       Artificial intelligence           Sequoia Capital China   \n",
       "1                         Other                   Founders Fund   \n",
       "2                       Fintech                 Khosla Ventures   \n",
       "3                       Fintech  Institutional Venture Partners   \n",
       "4  Internet software & services           Sequoia Capital China   \n",
       "\n",
       "                Investor 2           Investor 3      Investor 4  \n",
       "0     SIG Asia Investments           Sina Weibo  Softbank Group  \n",
       "1  Draper Fisher Jurvetson  Rothenberg Ventures            None  \n",
       "2         LowercaseCapital             capitalG            None  \n",
       "3          Sequoia Capital     General Atlantic            None  \n",
       "4       Blackbird Ventures      Matrix Partners            None  "
      ]
     },
     "execution_count": 26,
     "metadata": {},
     "output_type": "execute_result"
    }
   ],
   "source": [
    "unicorn.head()"
   ]
  },
  {
   "cell_type": "code",
   "execution_count": 27,
   "id": "d93aa13b",
   "metadata": {
    "execution": {
     "iopub.execute_input": "2021-12-12T06:00:38.259676Z",
     "iopub.status.busy": "2021-12-12T06:00:38.258947Z",
     "iopub.status.idle": "2021-12-12T06:00:38.280119Z",
     "shell.execute_reply": "2021-12-12T06:00:38.280646Z",
     "shell.execute_reply.started": "2021-12-12T05:59:57.716443Z"
    },
    "papermill": {
     "duration": 0.055925,
     "end_time": "2021-12-12T06:00:38.280866",
     "exception": false,
     "start_time": "2021-12-12T06:00:38.224941",
     "status": "completed"
    },
    "tags": []
   },
   "outputs": [],
   "source": [
    "unicorn.to_csv('./Unicorn_Clean.csv')"
   ]
  }
 ],
 "metadata": {
  "kernelspec": {
   "display_name": "Python 3",
   "language": "python",
   "name": "python3"
  },
  "language_info": {
   "codemirror_mode": {
    "name": "ipython",
    "version": 3
   },
   "file_extension": ".py",
   "mimetype": "text/x-python",
   "name": "python",
   "nbconvert_exporter": "python",
   "pygments_lexer": "ipython3",
   "version": "3.7.12"
  },
  "papermill": {
   "default_parameters": {},
   "duration": 13.709845,
   "end_time": "2021-12-12T06:00:39.123203",
   "environment_variables": {},
   "exception": null,
   "input_path": "__notebook__.ipynb",
   "output_path": "__notebook__.ipynb",
   "parameters": {},
   "start_time": "2021-12-12T06:00:25.413358",
   "version": "2.3.3"
  }
 },
 "nbformat": 4,
 "nbformat_minor": 5
}
